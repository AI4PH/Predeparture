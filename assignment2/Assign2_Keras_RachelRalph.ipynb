{
  "nbformat": 4,
  "nbformat_minor": 0,
  "metadata": {
    "colab": {
      "name": "Assign2_Keras_RachelRalph.ipynb",
      "provenance": []
    },
    "kernelspec": {
      "name": "python3",
      "display_name": "Python 3"
    },
    "language_info": {
      "name": "python"
    }
  },
  "cells": [
    {
      "cell_type": "code",
      "metadata": {
        "id": "3hcwg6GVeVU1"
      },
      "source": [
        "from numpy import loadtxt\n",
        "from keras.models import Sequential\n",
        "from keras.layers import Dense\n",
        "\n",
        "dataset = loadtxt(\"pima-diabetes.csv\", delimiter = \",\")\n",
        "x = dataset[:,0:8]\n",
        "y = dataset[:,8]"
      ],
      "execution_count": 35,
      "outputs": []
    },
    {
      "cell_type": "code",
      "metadata": {
        "id": "Knt8y2XreXfh"
      },
      "source": [
        "#Define Keras model.\n",
        "\n",
        "model = Sequential()\n",
        "\n",
        "model.add(Dense(12, input_dim = 8, activation = \"relu\"))\n",
        "model.add(Dense(8, activation = \"relu\"))\n",
        "model.add(Dense(1, activation = \"sigmoid\"))"
      ],
      "execution_count": 36,
      "outputs": []
    },
    {
      "cell_type": "code",
      "metadata": {
        "id": "5QyAqYgYpLkU"
      },
      "source": [
        "from sklearn.model_selection import train_test_split\n",
        "x_train, x_test, y_train, y_test = train_test_split(x, y, test_size=0.2, random_state=42)"
      ],
      "execution_count": 37,
      "outputs": []
    },
    {
      "cell_type": "code",
      "metadata": {
        "id": "InODn5w_fYZI"
      },
      "source": [
        "#compile Keras model\n",
        "model.compile(loss = \"binary_crossentropy\", optimizer = \"adam\", metrics = [\"accuracy\"])"
      ],
      "execution_count": 38,
      "outputs": []
    },
    {
      "cell_type": "code",
      "metadata": {
        "colab": {
          "base_uri": "https://localhost:8080/"
        },
        "id": "N1yCI0jofzEn",
        "outputId": "0e908352-bda6-45cc-dc4b-fd8fd445d7b3"
      },
      "source": [
        "#fit Keras model on dataset. \n",
        "model.fit(x_train, y_train, epochs = 50, batch_size = 32)"
      ],
      "execution_count": 39,
      "outputs": [
        {
          "output_type": "stream",
          "text": [
            "Epoch 1/50\n",
            "20/20 [==============================] - 1s 1ms/step - loss: 9.6977 - accuracy: 0.3282\n",
            "Epoch 2/50\n",
            "20/20 [==============================] - 0s 2ms/step - loss: 4.7400 - accuracy: 0.3563\n",
            "Epoch 3/50\n",
            "20/20 [==============================] - 0s 1ms/step - loss: 1.8190 - accuracy: 0.4601\n",
            "Epoch 4/50\n",
            "20/20 [==============================] - 0s 1ms/step - loss: 0.8675 - accuracy: 0.5718\n",
            "Epoch 5/50\n",
            "20/20 [==============================] - 0s 2ms/step - loss: 0.7340 - accuracy: 0.6232\n",
            "Epoch 6/50\n",
            "20/20 [==============================] - 0s 1ms/step - loss: 0.7428 - accuracy: 0.6371\n",
            "Epoch 7/50\n",
            "20/20 [==============================] - 0s 2ms/step - loss: 0.7008 - accuracy: 0.6437\n",
            "Epoch 8/50\n",
            "20/20 [==============================] - 0s 1ms/step - loss: 0.6973 - accuracy: 0.6487\n",
            "Epoch 9/50\n",
            "20/20 [==============================] - 0s 2ms/step - loss: 0.6912 - accuracy: 0.6858\n",
            "Epoch 10/50\n",
            "20/20 [==============================] - 0s 1ms/step - loss: 0.6628 - accuracy: 0.6439\n",
            "Epoch 11/50\n",
            "20/20 [==============================] - 0s 1ms/step - loss: 0.6800 - accuracy: 0.6699\n",
            "Epoch 12/50\n",
            "20/20 [==============================] - 0s 1ms/step - loss: 0.6562 - accuracy: 0.6783\n",
            "Epoch 13/50\n",
            "20/20 [==============================] - 0s 1ms/step - loss: 0.6187 - accuracy: 0.6982\n",
            "Epoch 14/50\n",
            "20/20 [==============================] - 0s 1ms/step - loss: 0.6710 - accuracy: 0.6640\n",
            "Epoch 15/50\n",
            "20/20 [==============================] - 0s 2ms/step - loss: 0.6421 - accuracy: 0.6780\n",
            "Epoch 16/50\n",
            "20/20 [==============================] - 0s 1ms/step - loss: 0.6609 - accuracy: 0.6630\n",
            "Epoch 17/50\n",
            "20/20 [==============================] - 0s 1ms/step - loss: 0.7140 - accuracy: 0.6508\n",
            "Epoch 18/50\n",
            "20/20 [==============================] - 0s 2ms/step - loss: 0.6353 - accuracy: 0.6593\n",
            "Epoch 19/50\n",
            "20/20 [==============================] - 0s 2ms/step - loss: 0.6541 - accuracy: 0.6599\n",
            "Epoch 20/50\n",
            "20/20 [==============================] - 0s 2ms/step - loss: 0.6408 - accuracy: 0.6794\n",
            "Epoch 21/50\n",
            "20/20 [==============================] - 0s 2ms/step - loss: 0.6356 - accuracy: 0.6576\n",
            "Epoch 22/50\n",
            "20/20 [==============================] - 0s 2ms/step - loss: 0.6072 - accuracy: 0.7032\n",
            "Epoch 23/50\n",
            "20/20 [==============================] - 0s 2ms/step - loss: 0.6485 - accuracy: 0.6489\n",
            "Epoch 24/50\n",
            "20/20 [==============================] - 0s 2ms/step - loss: 0.6384 - accuracy: 0.6615\n",
            "Epoch 25/50\n",
            "20/20 [==============================] - 0s 2ms/step - loss: 0.6105 - accuracy: 0.6891\n",
            "Epoch 26/50\n",
            "20/20 [==============================] - 0s 1ms/step - loss: 0.6574 - accuracy: 0.6310\n",
            "Epoch 27/50\n",
            "20/20 [==============================] - 0s 1ms/step - loss: 0.6196 - accuracy: 0.6938\n",
            "Epoch 28/50\n",
            "20/20 [==============================] - 0s 2ms/step - loss: 0.6115 - accuracy: 0.6802\n",
            "Epoch 29/50\n",
            "20/20 [==============================] - 0s 2ms/step - loss: 0.5865 - accuracy: 0.6997\n",
            "Epoch 30/50\n",
            "20/20 [==============================] - 0s 2ms/step - loss: 0.6459 - accuracy: 0.6531\n",
            "Epoch 31/50\n",
            "20/20 [==============================] - 0s 2ms/step - loss: 0.6555 - accuracy: 0.6700\n",
            "Epoch 32/50\n",
            "20/20 [==============================] - 0s 2ms/step - loss: 0.5928 - accuracy: 0.7043\n",
            "Epoch 33/50\n",
            "20/20 [==============================] - 0s 2ms/step - loss: 0.5935 - accuracy: 0.7191\n",
            "Epoch 34/50\n",
            "20/20 [==============================] - 0s 2ms/step - loss: 0.5919 - accuracy: 0.6862\n",
            "Epoch 35/50\n",
            "20/20 [==============================] - 0s 2ms/step - loss: 0.6100 - accuracy: 0.6777\n",
            "Epoch 36/50\n",
            "20/20 [==============================] - 0s 2ms/step - loss: 0.6251 - accuracy: 0.6690\n",
            "Epoch 37/50\n",
            "20/20 [==============================] - 0s 2ms/step - loss: 0.6181 - accuracy: 0.6819\n",
            "Epoch 38/50\n",
            "20/20 [==============================] - 0s 2ms/step - loss: 0.5906 - accuracy: 0.6946\n",
            "Epoch 39/50\n",
            "20/20 [==============================] - 0s 2ms/step - loss: 0.5862 - accuracy: 0.7109\n",
            "Epoch 40/50\n",
            "20/20 [==============================] - 0s 2ms/step - loss: 0.5901 - accuracy: 0.6681\n",
            "Epoch 41/50\n",
            "20/20 [==============================] - 0s 2ms/step - loss: 0.5813 - accuracy: 0.7086\n",
            "Epoch 42/50\n",
            "20/20 [==============================] - 0s 2ms/step - loss: 0.6076 - accuracy: 0.6823\n",
            "Epoch 43/50\n",
            "20/20 [==============================] - 0s 2ms/step - loss: 0.5942 - accuracy: 0.6936\n",
            "Epoch 44/50\n",
            "20/20 [==============================] - 0s 1ms/step - loss: 0.5657 - accuracy: 0.7229\n",
            "Epoch 45/50\n",
            "20/20 [==============================] - 0s 2ms/step - loss: 0.5824 - accuracy: 0.7027\n",
            "Epoch 46/50\n",
            "20/20 [==============================] - 0s 2ms/step - loss: 0.5562 - accuracy: 0.7273\n",
            "Epoch 47/50\n",
            "20/20 [==============================] - 0s 1ms/step - loss: 0.5806 - accuracy: 0.7014\n",
            "Epoch 48/50\n",
            "20/20 [==============================] - 0s 2ms/step - loss: 0.5513 - accuracy: 0.7285\n",
            "Epoch 49/50\n",
            "20/20 [==============================] - 0s 1ms/step - loss: 0.5404 - accuracy: 0.7298\n",
            "Epoch 50/50\n",
            "20/20 [==============================] - 0s 2ms/step - loss: 0.5998 - accuracy: 0.6853\n"
          ],
          "name": "stdout"
        },
        {
          "output_type": "execute_result",
          "data": {
            "text/plain": [
              "<keras.callbacks.History at 0x7fc0f1c09b10>"
            ]
          },
          "metadata": {
            "tags": []
          },
          "execution_count": 39
        }
      ]
    },
    {
      "cell_type": "code",
      "metadata": {
        "colab": {
          "base_uri": "https://localhost:8080/"
        },
        "id": "ZnD6Tohdg3Fq",
        "outputId": "143f024d-4107-4f7e-86b5-bd06adeffdb8"
      },
      "source": [
        "_, accuracy = model.evaluate(x_test, y_test)\n",
        "print(accuracy)"
      ],
      "execution_count": 40,
      "outputs": [
        {
          "output_type": "stream",
          "text": [
            "5/5 [==============================] - 0s 3ms/step - loss: 0.6459 - accuracy: 0.6883\n",
            "0.6883116960525513\n"
          ],
          "name": "stdout"
        }
      ]
    }
  ]
}