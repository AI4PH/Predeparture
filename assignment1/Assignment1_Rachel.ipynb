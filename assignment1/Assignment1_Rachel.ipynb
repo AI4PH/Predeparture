{
 "cells": [
  {
   "cell_type": "code",
   "execution_count": 1,
   "id": "76b02d8d",
   "metadata": {},
   "outputs": [],
   "source": [
    "import numpy as np\n",
    "import pandas as pd"
   ]
  },
  {
   "cell_type": "code",
   "execution_count": 16,
   "id": "69809d25",
   "metadata": {},
   "outputs": [],
   "source": [
    "#I combined both the dictionary and list requirments by making a dictionary of lists! \n",
    "\n",
    "#Dictionary of a bunch of harry potter characters, with lists of what classes they are taking.\n",
    "studentDict = {\"Harry Potter\" : [\"Defence Aganst The Dark Arts\", \"Transfigurations\", \"Astronomy\"], \n",
    "               \"Ron Weasely\": [\"Transfigurations\", \"Charms\"],\n",
    "               \"Hermionie Granger\" : [\"Transfigurations\", \"Charms\", \"Potions\", \"A History of Magic\", \"Defence Against the Dark Arts\" , \"Astronomy\", \"Herbology\"],\n",
    "               \"Luna Lovegood\": [\"Herbology\", \"Astronomy\"]\n",
    "              }"
   ]
  },
  {
   "cell_type": "code",
   "execution_count": 17,
   "id": "baba87dc",
   "metadata": {
    "scrolled": true
   },
   "outputs": [
    {
     "name": "stdout",
     "output_type": "stream",
     "text": [
      "Defence Aganst The Dark Arts\n",
      "Transfigurations\n",
      "Astronomy\n"
     ]
    }
   ],
   "source": [
    "for course in studentDict[\"Harry Potter\"]:\n",
    "    print(course)"
   ]
  },
  {
   "cell_type": "code",
   "execution_count": 18,
   "id": "eefdfd01",
   "metadata": {
    "scrolled": false
   },
   "outputs": [
    {
     "data": {
      "text/html": [
       "<div>\n",
       "<style scoped>\n",
       "    .dataframe tbody tr th:only-of-type {\n",
       "        vertical-align: middle;\n",
       "    }\n",
       "\n",
       "    .dataframe tbody tr th {\n",
       "        vertical-align: top;\n",
       "    }\n",
       "\n",
       "    .dataframe thead th {\n",
       "        text-align: right;\n",
       "    }\n",
       "</style>\n",
       "<table border=\"1\" class=\"dataframe\">\n",
       "  <thead>\n",
       "    <tr style=\"text-align: right;\">\n",
       "      <th></th>\n",
       "      <th>0</th>\n",
       "      <th>1</th>\n",
       "    </tr>\n",
       "  </thead>\n",
       "  <tbody>\n",
       "    <tr>\n",
       "      <th>0</th>\n",
       "      <td>Harry Potter</td>\n",
       "      <td>[Defence Aganst The Dark Arts, Transfiguration...</td>\n",
       "    </tr>\n",
       "    <tr>\n",
       "      <th>1</th>\n",
       "      <td>Ron Weasely</td>\n",
       "      <td>[Transfigurations, Charms]</td>\n",
       "    </tr>\n",
       "    <tr>\n",
       "      <th>2</th>\n",
       "      <td>Hermionie Granger</td>\n",
       "      <td>[Transfigurations, Charms, Potions, A History ...</td>\n",
       "    </tr>\n",
       "    <tr>\n",
       "      <th>3</th>\n",
       "      <td>Luna Lovegood</td>\n",
       "      <td>[Herbology, Astronomy]</td>\n",
       "    </tr>\n",
       "  </tbody>\n",
       "</table>\n",
       "</div>"
      ],
      "text/plain": [
       "                   0                                                  1\n",
       "0       Harry Potter  [Defence Aganst The Dark Arts, Transfiguration...\n",
       "1        Ron Weasely                         [Transfigurations, Charms]\n",
       "2  Hermionie Granger  [Transfigurations, Charms, Potions, A History ...\n",
       "3      Luna Lovegood                             [Herbology, Astronomy]"
      ]
     },
     "execution_count": 18,
     "metadata": {},
     "output_type": "execute_result"
    }
   ],
   "source": [
    "#Print out a dataframe with pandas of the classes each student is taking.\n",
    "items = studentDict.items()\n",
    "pd.DataFrame(items)"
   ]
  },
  {
   "cell_type": "code",
   "execution_count": 19,
   "id": "0f0e510f",
   "metadata": {},
   "outputs": [],
   "source": [
    "#Takes a dictionary of students and a class name as parameters, prints out of list of which students are taking the given class\n",
    "def searchForClasses(studentDict, className):\n",
    "    for student in studentDict:\n",
    "        for course in studentDict[student]:\n",
    "            if course == className:\n",
    "                print(student)"
   ]
  },
  {
   "cell_type": "code",
   "execution_count": 20,
   "id": "3cb7f705",
   "metadata": {},
   "outputs": [
    {
     "name": "stdout",
     "output_type": "stream",
     "text": [
      "Harry Potter\n",
      "Ron Weasely\n",
      "Hermionie Granger\n"
     ]
    }
   ],
   "source": [
    "searchForClasses(studentDict, \"Transfigurations\")"
   ]
  },
  {
   "cell_type": "code",
   "execution_count": null,
   "id": "409bacb5",
   "metadata": {},
   "outputs": [],
   "source": []
  }
 ],
 "metadata": {
  "kernelspec": {
   "display_name": "Python 3",
   "language": "python",
   "name": "python3"
  },
  "language_info": {
   "codemirror_mode": {
    "name": "ipython",
    "version": 3
   },
   "file_extension": ".py",
   "mimetype": "text/x-python",
   "name": "python",
   "nbconvert_exporter": "python",
   "pygments_lexer": "ipython3",
   "version": "3.9.1"
  }
 },
 "nbformat": 4,
 "nbformat_minor": 5
}
