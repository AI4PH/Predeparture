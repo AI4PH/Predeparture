{
 "cells": [
  {
   "cell_type": "code",
   "execution_count": 4,
   "id": "908ccf51",
   "metadata": {
    "scrolled": true
   },
   "outputs": [
    {
     "name": "stdout",
     "output_type": "stream",
     "text": [
      "How many students are going to submit their answers to this survet? \n",
      "4\n",
      "what is your name? \n",
      "1\n",
      "Your name is: 1 .\n",
      "what is your major? \n",
      "aa\n",
      "Your major is aa .\n",
      "\n",
      "Thank you!\n",
      "\n",
      "how many cups of coffee have you had today? \n",
      "2\n",
      "You've had cups of 2 coffee!\n",
      "\n",
      "YAY YOU!\n",
      "\n",
      "what is your name? \n",
      "b\n",
      "Your name is: b .\n",
      "what is your major? \n",
      "bb\n",
      "Your major is bb .\n",
      "\n",
      "Thank you!\n",
      "\n",
      "how many cups of coffee have you had today? \n",
      "3\n",
      "You've had cups of 3 coffee!\n",
      "\n",
      "YAY YOU!\n",
      "\n",
      "what is your name? \n",
      "c\n",
      "Your name is: c .\n",
      "what is your major? \n",
      "cc\n",
      "Your major is cc .\n",
      "\n",
      "Thank you!\n",
      "\n",
      "how many cups of coffee have you had today? \n",
      "3\n",
      "You've had cups of 3 coffee!\n",
      "\n",
      "YAY YOU!\n",
      "\n",
      "what is your name? \n",
      "d\n",
      "Your name is: d .\n",
      "what is your major? \n",
      "dd\n",
      "Your major is dd .\n",
      "\n",
      "Thank you!\n",
      "\n",
      "how many cups of coffee have you had today? \n",
      "5\n",
      "You've had cups of 5 coffee!\n",
      "\n",
      "YAY YOU!\n",
      "\n",
      "['1', 'b', 'c', 'd'] ['aa', 'bb', 'cc', 'dd'] [2, 3, 3, 5]\n",
      "{'n': '1', 'a': 'b', 'm': 'c', 'e': 'd'} {'m': 'aa', 'a': 'bb', 'j': 'cc', 'o': 'dd'} {'c': 2, 'o': 3, 'f': 5}\n"
     ]
    },
    {
     "data": {
      "image/png": "[encoded data removed]",
      "text/plain": [
       "<Figure size 432x288 with 1 Axes>"
      ]
     },
     "metadata": {
      "needs_background": "light"
     },
     "output_type": "display_data"
    }
   ],
   "source": [
    "listOfNames = [] \n",
    "listOfMajors = []\n",
    "listOfCoffee = []\n",
    "number = int(input(\"How many students are going to submit their answers to this survet? \\n\")) #ask user for a number\n",
    "def userData (number): \n",
    "    \n",
    "    \n",
    "    for i in range(number): #function \n",
    "        username = input (\"what is your name? \\n\")\n",
    "        print(\"Your name is:\", username,'.')\n",
    "        listOfNames.append(username)\n",
    "        \n",
    "        major= input (\"what is your major? \\n\")\n",
    "        print (\"Your major is\", major, '.')\n",
    "        listOfMajors.append(major)\n",
    "        print (\"\\nThank you!\\n\") \n",
    "       \n",
    "        coffee = int(input(\"how many cups of coffee have you had today? \\n\"))\n",
    "        print(\"You've had cups of\", coffee,\"coffee!\")\n",
    "        listOfCoffee.append(coffee)\n",
    "        print (\"\\nYAY YOU!\\n\") \n",
    "        \n",
    "    print(listOfNames, listOfMajors, listOfCoffee) \n",
    "\n",
    "\n",
    "userData(number) #how you call the fx..use it's name as we've defined it and then you're telling it what you need it to do. 3 is the argument which is number. \n",
    "\n",
    "#studentDictionary = dict(zip(listOfNames, listOfMajors)) #this tells you about the student and the major that they are in\n",
    "studentDictionaryName = dict(zip(\"name\", listOfNames))\n",
    "studentDictionaryMajors = dict(zip(\"majors\", listOfMajors))\n",
    "studentDictionaryCoffee = dict(zip(\"coffee\", listOfCoffee))\n",
    "\n",
    "\n",
    "print(studentDictionaryName, studentDictionaryMajors, studentDictionaryCoffee)\n",
    "\n",
    "#source: https://stackoverflow.com/questions/49087080/python-dictionaries-with-lists-from-user-input-how-to-solve-this\n",
    "\n",
    "import matplotlib.pyplot as plt\n",
    "#showing a plot of the students name and the number of coffee they've had\n",
    "plt.bar( listOfNames, listOfCoffee, 0.3)\n",
    "plt.ylabel('cups of coffee today')\n",
    "plt.show()"
   ]
  },
  {
   "cell_type": "code",
   "execution_count": null,
   "id": "4c82c611",
   "metadata": {},
   "outputs": [],
   "source": []
  },
  {
   "cell_type": "code",
   "execution_count": null,
   "id": "02617bc0",
   "metadata": {},
   "outputs": [],
   "source": []
  },
  {
   "cell_type": "code",
   "execution_count": null,
   "id": "04e8be0a",
   "metadata": {},
   "outputs": [],
   "source": []
  }
 ],
 "metadata": {
  "kernelspec": {
   "display_name": "Python 3 (ipykernel)",
   "language": "python",
   "name": "python3"
  },
  "language_info": {
   "codemirror_mode": {
    "name": "ipython",
    "version": 3
   },
   "file_extension": ".py",
   "mimetype": "text/x-python",
   "name": "python",
   "nbconvert_exporter": "python",
   "pygments_lexer": "ipython3",
   "version": "3.9.6"
  }
 },
 "nbformat": 4,
 "nbformat_minor": 5
}
